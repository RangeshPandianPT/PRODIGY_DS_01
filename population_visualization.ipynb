{
 "cells": [
  {
   "cell_type": "code",
   "execution_count": null,
   "id": "804553b6",
   "metadata": {},
   "outputs": [],
   "source": [
    "\n",
    "import pandas as pd\n",
    "import matplotlib.pyplot as plt\n",
    "\n",
    "# Load dataset\n",
    "df = pd.read_csv(\"API_SP.POP.TOTL_DS2_en_csv_v2_123525.csv\", skiprows=4)\n",
    "\n",
    "# Filter and prepare top 10 countries by population for 2022\n",
    "year = \"2022\"\n",
    "df_year = df[[\"Country Name\", year]].dropna()\n",
    "df_year[year] = pd.to_numeric(df_year[year], errors='coerce')\n",
    "top10 = df_year.sort_values(by=year, ascending=False).head(10)\n",
    "top10.to_csv(\"top10_population_2022.csv\", index=False)\n",
    "\n",
    "# Plot and save chart\n",
    "plt.figure(figsize=(12, 6))\n",
    "plt.bar(top10[\"Country Name\"], top10[year], color='skyblue')\n",
    "plt.xticks(rotation=45, ha='right')\n",
    "plt.ylabel(\"Population\")\n",
    "plt.title(\"Top 10 Most Populous Countries in 2022\")\n",
    "plt.tight_layout()\n",
    "plt.savefig(\"top10_population_2022.png\")\n",
    "plt.show()\n"
   ]
  }
 ],
 "metadata": {},
 "nbformat": 4,
 "nbformat_minor": 5
}
